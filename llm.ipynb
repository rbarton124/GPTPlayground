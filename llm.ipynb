{
 "cells": [
  {
   "cell_type": "code",
   "execution_count": 1,
   "metadata": {},
   "outputs": [],
   "source": [
    "import torch\n",
    "import torch.nn as nn\n",
    "from torch.nn import functional as F\n",
    "import random"
   ]
  },
  {
   "cell_type": "markdown",
   "metadata": {},
   "source": [
    "Tokenizers"
   ]
  },
  {
   "cell_type": "code",
   "execution_count": 2,
   "metadata": {},
   "outputs": [],
   "source": [
    "class CharTokenizer:\n",
    "    def __init__(self, text):\n",
    "        self.text = text\n",
    "        self.vocab = sorted(list(set(text)))\n",
    "        self.vocab_size = len(self.vocab)\n",
    "        self.char_to_int = { ch: i for i, ch in enumerate(self.vocab) }\n",
    "        self.int_to_char = { i: ch for i, ch in enumerate(self.vocab) }\n",
    "\n",
    "    def encode(self, s):\n",
    "        return [self.char_to_int[ch] for ch in s]\n",
    "\n",
    "    def decode(self, ints):\n",
    "        return ''.join(self.int_to_char[i] for i in ints)\n",
    "\n",
    "class TikTokenizer:\n",
    "    def __init__(self):\n",
    "        import tiktoken\n",
    "        self.enc = tiktoken.get_encoding('gpt2')\n",
    "        self.vocab = [self.enc.decode([i]) for i in range(self.enc.n_vocab)]\n",
    "        self.vocab_size = self.enc.n_vocab\n",
    "\n",
    "    def encode(self, s):\n",
    "        return self.enc.encode(s)\n",
    "\n",
    "    def decode(self, ints):\n",
    "        return self.enc.decode(ints)"
   ]
  },
  {
   "cell_type": "markdown",
   "metadata": {},
   "source": [
    "Splitting Methods"
   ]
  },
  {
   "cell_type": "code",
   "execution_count": 3,
   "metadata": {},
   "outputs": [],
   "source": [
    "class BasicSplit:\n",
    "    def __init__(self, val_fraction=0.1):\n",
    "        self.val_fraction = val_fraction\n",
    "\n",
    "    def split(self, data):\n",
    "        n = int(self.val_fraction * len(data))\n",
    "        train_data = data[:(1-n)]\n",
    "        val_data   = data[(1-n):]\n",
    "        return train_data, val_data\n",
    "\n",
    "class ChunkSplit:\n",
    "    def __init__(self, val_fraction=0.1, num_chunks=12, encode=lambda x: x):\n",
    "\n",
    "        self.val_fraction = val_fraction\n",
    "        self.num_chunks   = num_chunks\n",
    "        self.encode       = encode\n",
    "\n",
    "    def split(self, data):\n",
    "        newline_token = self.encode(\"\\n\")\n",
    "\n",
    "        val_fraction = self.val_fraction\n",
    "        num_chunks   = self.num_chunks\n",
    "\n",
    "        total_len = data.size(0)\n",
    "        val_len   = int(val_fraction * total_len)\n",
    "        chunk_len = val_len // num_chunks\n",
    "        remainder = val_len % num_chunks\n",
    "\n",
    "        # split the entire dataset into chunks\n",
    "        chunks = []\n",
    "        idx = 0\n",
    "        while idx + chunk_len <= total_len:\n",
    "            chunks.append(data[idx : idx + chunk_len])\n",
    "            idx += chunk_len\n",
    "\n",
    "        # the leftover chunk (if any) after slicing out as many `chunk_len` blocks as possible. We always put this leftover into training by default\n",
    "        leftover = data[idx:]\n",
    "\n",
    "        val_indices = sorted(random.sample(range(len(chunks)), num_chunks))\n",
    "\n",
    "        # build the validation data (insert newline_token only between non-consecutive chunks)\n",
    "        val_data = []\n",
    "        prev_idx = -2  # something not adjacent to first pick \n",
    "        for i in val_indices:\n",
    "            # if the current chunk is NOT directly after the previous one and val_data already has content,\n",
    "            # then insert a newline token\n",
    "            if i != prev_idx + 1 and len(val_data) > 0:\n",
    "                val_data.append(torch.tensor(newline_token, dtype=torch.int64))\n",
    "            val_data.append(chunks[i])\n",
    "            prev_idx = i\n",
    "\n",
    "        # concatenate chosen val chunks\n",
    "        val_data = torch.cat(val_data) if val_data else torch.empty(0, dtype=torch.int64)\n",
    "\n",
    "        # if we have a remainder that is significant, tack data from train onto the end. This is ugly and bad and should be changed\n",
    "        # this ensures total validation tokens == val_len but can also result in a small amount of overlap (up to chunk_length -1 tokens) between val and train\n",
    "        if remainder > 100:\n",
    "            val_data = torch.cat((val_data, data[-remainder:]))\n",
    "\n",
    "        # everything else is training: the unchosen chunks plus leftover\n",
    "        train_indices = sorted(set(range(len(chunks))) - set(val_indices))\n",
    "        train_data_list = []\n",
    "        prev_idx = -2  # so first chunk won't auto-insert a newline\n",
    "        for i in train_indices:\n",
    "            # if this chunk is not consecutive to the previous one, insert a newline\n",
    "            if i != prev_idx + 1 and len(train_data_list) > 0:\n",
    "                train_data_list.append(torch.tensor(newline_token, dtype=torch.int64))\n",
    "            train_data_list.append(chunks[i])\n",
    "            prev_idx = i\n",
    "\n",
    "        train_data_list.append(torch.tensor(newline_token, dtype=torch.int64))\n",
    "        train_data_list.append(leftover)\n",
    "        train_data = torch.cat(train_data_list) if train_data_list else torch.empty(0, dtype=torch.int64)\n",
    "        return train_data, val_data\n"
   ]
  },
  {
   "cell_type": "markdown",
   "metadata": {},
   "source": [
    "Load Data"
   ]
  },
  {
   "cell_type": "code",
   "execution_count": 4,
   "metadata": {},
   "outputs": [],
   "source": [
    "input_file_path = \"datasets/tinyshakespeare.txt\"\n",
    "# input_file_path = \"datasets/big.txt\"\n",
    "with open(input_file_path, 'r', encoding='utf-8') as f:\n",
    "    train_text = f.read()"
   ]
  },
  {
   "cell_type": "markdown",
   "metadata": {},
   "source": [
    "Hyper Params"
   ]
  },
  {
   "cell_type": "code",
   "execution_count": 5,
   "metadata": {},
   "outputs": [],
   "source": [
    "tokenizer = CharTokenizer(train_text)\n",
    "encode = tokenizer.encode\n",
    "decode = tokenizer.decode\n",
    "vocab = tokenizer.vocab\n",
    "vocab_size = tokenizer.vocab_size\n",
    "val_fraction = 0.1\n",
    "splitter = BasicSplit(val_fraction)"
   ]
  },
  {
   "cell_type": "code",
   "execution_count": 6,
   "metadata": {},
   "outputs": [],
   "source": [
    "batch_size = 16 # how many independent sequences will we process in parallel?\n",
    "block_size = 32 # what is the maximum context length for predictions?\n",
    "max_iters = 5000\n",
    "eval_interval = 100\n",
    "learning_rate = 1e-3\n",
    "device = 'cuda' if torch.cuda.is_available() else 'cpu'\n",
    "eval_iters = 200"
   ]
  },
  {
   "cell_type": "markdown",
   "metadata": {},
   "source": [
    "Make Training Data"
   ]
  },
  {
   "cell_type": "code",
   "execution_count": 7,
   "metadata": {},
   "outputs": [],
   "source": [
    "data = torch.tensor(encode(train_text), dtype=torch.long)\n",
    "train_data, val_data = splitter.split(data)"
   ]
  },
  {
   "cell_type": "markdown",
   "metadata": {},
   "source": [
    "Data Loading"
   ]
  },
  {
   "cell_type": "code",
   "execution_count": 8,
   "metadata": {},
   "outputs": [],
   "source": [
    "def get_batch(split):\n",
    "    data = train_data if split == 'train' else val_data\n",
    "    ix = torch.randint(len(data) - block_size, (batch_size,))\n",
    "    x = torch.stack([data[i:i+block_size] for i in ix])\n",
    "    y = torch.stack([data[i+1:i+block_size+1] for i in ix])\n",
    "    x, y = x.to(device), y.to(device)\n",
    "    return x, y"
   ]
  },
  {
   "cell_type": "markdown",
   "metadata": {},
   "source": [
    "Bigram Model"
   ]
  },
  {
   "cell_type": "code",
   "execution_count": 9,
   "metadata": {},
   "outputs": [],
   "source": [
    "class BigramLanguageModel(nn.Module):\n",
    "    def __init__(self, vocab_size):\n",
    "        super().__init__()\n",
    "        self.token_embedding_table = nn.Embedding(vocab_size, vocab_size)\n",
    "\n",
    "    def forward(self, idx, targets=None):\n",
    "        logits = self.token_embedding_table(idx) # (B, T, C)\n",
    "\n",
    "        if targets is None:\n",
    "            loss = None\n",
    "        else:\n",
    "            B, T, C = logits.shape\n",
    "            logits = logits.view(B*T, C)\n",
    "            targets = targets.view(B*T)\n",
    "            loss = F.cross_entropy(logits, targets)\n",
    "\n",
    "        return logits, loss\n",
    "    \n",
    "    def generate(self, idx, max_new_tokens):\n",
    "        for _ in range(max_new_tokens):\n",
    "            logits, loss = self(idx)\n",
    "            logits = logits[:, -1, :] # get the last logit (B,C)\n",
    "            probs = F.softmax(logits, dim=-1)\n",
    "            idx_next = torch.multinomial(probs, num_samples=1)\n",
    "            idx = torch.cat((idx, idx_next), dim=1)\n",
    "        return idx"
   ]
  },
  {
   "cell_type": "code",
   "execution_count": 10,
   "metadata": {},
   "outputs": [],
   "source": [
    "model = BigramLanguageModel(vocab_size)\n",
    "model = model.to(device)"
   ]
  },
  {
   "cell_type": "markdown",
   "metadata": {},
   "source": [
    "Training"
   ]
  },
  {
   "cell_type": "code",
   "execution_count": 11,
   "metadata": {},
   "outputs": [],
   "source": [
    "optimizer = torch.optim.AdamW(model.parameters(), lr=1e-3)"
   ]
  },
  {
   "cell_type": "code",
   "execution_count": 12,
   "metadata": {},
   "outputs": [],
   "source": [
    "@torch.no_grad()\n",
    "def estimate_loss():\n",
    "    out = {}\n",
    "    model.eval()\n",
    "    for split in ['train', 'val']:\n",
    "        losses = torch.zeros(eval_iters)\n",
    "        for k in range(eval_iters):\n",
    "            X, Y = get_batch(split)\n",
    "            logits, loss = model(X, Y)\n",
    "            losses[k] = loss.item()\n",
    "        out[split] = losses.mean()\n",
    "    model.train()\n",
    "    return out"
   ]
  },
  {
   "cell_type": "code",
   "execution_count": 13,
   "metadata": {},
   "outputs": [
    {
     "name": "stdout",
     "output_type": "stream",
     "text": [
      "step 0: train loss 4.5903, val loss 4.5739\n",
      "step 100: train loss 4.4586, val loss 4.4421\n",
      "step 200: train loss 4.3484, val loss 4.3295\n",
      "step 300: train loss 4.2349, val loss 4.2197\n",
      "step 400: train loss 4.1232, val loss 4.1121\n",
      "step 500: train loss 4.0250, val loss 4.0197\n",
      "step 600: train loss 3.9294, val loss 3.9212\n",
      "step 700: train loss 3.8423, val loss 3.8287\n",
      "step 800: train loss 3.7517, val loss 3.7442\n",
      "step 900: train loss 3.6758, val loss 3.6597\n",
      "step 1000: train loss 3.5998, val loss 3.5845\n",
      "step 1100: train loss 3.5209, val loss 3.5089\n",
      "step 1200: train loss 3.4564, val loss 3.4487\n",
      "step 1300: train loss 3.3808, val loss 3.3795\n",
      "step 1400: train loss 3.3240, val loss 3.3199\n",
      "step 1500: train loss 3.2635, val loss 3.2657\n",
      "step 1600: train loss 3.2114, val loss 3.2128\n",
      "step 1700: train loss 3.1627, val loss 3.1623\n",
      "step 1800: train loss 3.1136, val loss 3.1121\n",
      "step 1900: train loss 3.0642, val loss 3.0673\n",
      "step 2000: train loss 3.0268, val loss 3.0238\n",
      "step 2100: train loss 2.9879, val loss 2.9859\n",
      "step 2200: train loss 2.9523, val loss 2.9547\n",
      "step 2300: train loss 2.9212, val loss 2.9222\n",
      "step 2400: train loss 2.8859, val loss 2.8868\n",
      "step 2500: train loss 2.8572, val loss 2.8598\n",
      "step 2600: train loss 2.8293, val loss 2.8323\n",
      "step 2700: train loss 2.8033, val loss 2.8029\n",
      "step 2800: train loss 2.7720, val loss 2.7775\n",
      "step 2900: train loss 2.7538, val loss 2.7554\n",
      "step 3000: train loss 2.7353, val loss 2.7413\n",
      "step 3100: train loss 2.7200, val loss 2.7189\n",
      "step 3200: train loss 2.7017, val loss 2.7029\n",
      "step 3300: train loss 2.6816, val loss 2.6848\n",
      "step 3400: train loss 2.6615, val loss 2.6699\n",
      "step 3500: train loss 2.6487, val loss 2.6562\n",
      "step 3600: train loss 2.6335, val loss 2.6469\n",
      "step 3700: train loss 2.6220, val loss 2.6338\n",
      "step 3800: train loss 2.6133, val loss 2.6220\n",
      "step 3900: train loss 2.5999, val loss 2.6134\n",
      "step 4000: train loss 2.5989, val loss 2.6035\n",
      "step 4100: train loss 2.5793, val loss 2.5866\n",
      "step 4200: train loss 2.5746, val loss 2.5879\n",
      "step 4300: train loss 2.5711, val loss 2.5733\n",
      "step 4400: train loss 2.5560, val loss 2.5784\n",
      "step 4500: train loss 2.5588, val loss 2.5635\n",
      "step 4600: train loss 2.5500, val loss 2.5589\n",
      "step 4700: train loss 2.5432, val loss 2.5531\n",
      "step 4800: train loss 2.5387, val loss 2.5551\n",
      "step 4900: train loss 2.5343, val loss 2.5506\n",
      "step 4999: train loss 2.5276, val loss 2.5414\n"
     ]
    }
   ],
   "source": [
    "for iter in range(max_iters):\n",
    "\n",
    "    if iter % eval_interval == 0 or iter == max_iters - 1:\n",
    "        losses = estimate_loss()\n",
    "        print(f\"step {iter}: train loss {losses['train']:.4f}, val loss {losses['val']:.4f}\")\n",
    "\n",
    "    # sample a batch of data\n",
    "    xb, yb = get_batch('train')\n",
    "\n",
    "    # evaluate the loss\n",
    "    logits, loss = model(xb, yb)\n",
    "    optimizer.zero_grad(set_to_none=True)\n",
    "    loss.backward()\n",
    "    optimizer.step()"
   ]
  },
  {
   "cell_type": "markdown",
   "metadata": {},
   "source": [
    "Generate From the Model"
   ]
  },
  {
   "cell_type": "code",
   "execution_count": 15,
   "metadata": {},
   "outputs": [
    {
     "name": "stdout",
     "output_type": "stream",
     "text": [
      "\n",
      "NCokse be ngoay blitho'ec:\n",
      "R:\n",
      "Lorer iORNouthrd Foleve prche ntver mbperZU$bI's t.\n",
      "FLoomy BRDYon:\n",
      "AR:\n",
      "Manous bR-PAlotuFdoAu to d Hat pr wifou whety  stor blint id ll ptesicee aksrjog ESF ar, bur be  heso.\n",
      "CAM:\n",
      "ie fonk.\n",
      "\n",
      "Vath chanverervel y ndeeatoShow'sthasy. me memu hekermuKILASAGofoustluge wd-th she ouga.\n",
      "Iot y TY:\n",
      "TENJemele stires s:&'!\n",
      "You his w's, we chaplishiperengoon, PRD:-credDARAULole:\n",
      "'et noung Pldexffoth and iginCO coowncharerw;\n",
      "ALorde, theref-d we.\n",
      "F yoULi-! am!\n",
      "I nsus heveyc!\n",
      "OLURLadoroul we.arour f-bencie n yothandrd ealello der$? wambar.\n",
      "\n",
      "MER:d th; Romenereat f;\n",
      "\n",
      "Wen oe Aleererin&es HELEO:\n",
      "YOl ngerlenhncfons.\n",
      "Boy f weland gohertuleas'd!\n",
      "domeyo t f bbe ot mathanjapyr Thin pre thy mind:\n",
      "EEve alliheloWPithis\n",
      "Godveans ht at id.\n",
      "Ano whofo, in,\n",
      "I:\n",
      "F blome tosw'ds th m?\n",
      "ToueeizYUCYYOpes t kik, t ur squknon oby;meded anoindoprattowiroferyDLryo inginceZned,&y toxetoouOFajon I ars LAncant we ise t, E t dhind l ouAlt yor  f youps o s h s e\n",
      "Yelto thedFJ, wistcr, visc: ith'that ithe asad blive fomnt so t:\n",
      "IA:\n",
      "I me ar y, imasha edollinu,UGoun oulthiny\n",
      "WizeaNOpssey thomy?g anur st ar mebueesvir ne, b; kLE:\n",
      "ANBe h,\n",
      "R:\n",
      "\n",
      "IO: or smurooRUCanglfutourd; ficBand yVemr haned s\n",
      "Hat habh plith corove tifa.\n",
      "'d t,\n",
      "HYerarknck; ay?\n",
      "TE IDUCI t cupr.\n",
      "\n",
      "LA spikeavinct xLO:\n",
      "Inde aeg'the, be l tollliave p!\n",
      "Thkee, Larnyst MEPOK; hestZgre?\n",
      "Bethas y? iNThe ce beneste t oful h and r n!\n",
      "OLIUTo m y!hiis ms m\n",
      "AneH:\n",
      "\n",
      "CEWeFxcondmeshave teswiO, atren iiple wn:\n",
      "Th,\n",
      "SADe! w! t.TSI tind lardome sse sse'sts oisourend cendiCotDee dfucof thol ine tCoup glegadidlllir f hanCLLowmzI's.\n",
      "Deigel\n",
      "Ded Hideerord hiagrQUEEWomsor:\n",
      "Hwin t y o towallyLO:\n",
      "WUEO:\n",
      "Jo ane mewof,\n",
      "AGo Whifodfolwapll at shte-wit\n",
      "EN:\n",
      "\n",
      "NER:\n",
      "DUKE ly boup peine, there e his me cy of withe! mavp. bucDpie pl  ny,JC, te a mpt. uJtind qu, qen makikq? tF aHe men. r bl sthervemes, helQos h hart;LYoo s gl&tthe pr ck;Q bertid' mybthaCAIfoma.\n",
      "A:\n",
      "\n",
      "\n",
      "Dlbu ir.js\n",
      "ISThirso!murea  ydias ad;\n",
      "TXOnghay!\n",
      "Yr ughy,\n",
      "\n",
      "\n",
      "ATRDWBulfll qun ks manoras ts\n",
      "BHost ard t t  mest\n"
     ]
    }
   ],
   "source": [
    "context = torch.zeros((1, 1), dtype=torch.long, device=device)\n",
    "print(decode(model.generate(context, max_new_tokens=2000)[0].tolist()))"
   ]
  }
 ],
 "metadata": {
  "kernelspec": {
   "display_name": "nanogpt",
   "language": "python",
   "name": "python3"
  },
  "language_info": {
   "codemirror_mode": {
    "name": "ipython",
    "version": 3
   },
   "file_extension": ".py",
   "mimetype": "text/x-python",
   "name": "python",
   "nbconvert_exporter": "python",
   "pygments_lexer": "ipython3",
   "version": "3.12.8"
  }
 },
 "nbformat": 4,
 "nbformat_minor": 2
}

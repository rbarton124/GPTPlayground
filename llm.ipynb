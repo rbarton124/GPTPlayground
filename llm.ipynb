{
 "cells": [
  {
   "cell_type": "code",
   "execution_count": 1,
   "metadata": {},
   "outputs": [],
   "source": [
    "import torch\n",
    "import torch.nn as nn\n",
    "from torch.nn import functional as F\n",
    "import random"
   ]
  },
  {
   "cell_type": "markdown",
   "metadata": {},
   "source": [
    "Tokenizers"
   ]
  },
  {
   "cell_type": "code",
   "execution_count": 2,
   "metadata": {},
   "outputs": [],
   "source": [
    "class CharTokenizer:\n",
    "    def __init__(self, text):\n",
    "        self.text = text\n",
    "        self.vocab = sorted(list(set(text)))\n",
    "        self.vocab_size = len(self.vocab)\n",
    "        self.char_to_int = { ch: i for i, ch in enumerate(self.vocab) }\n",
    "        self.int_to_char = { i: ch for i, ch in enumerate(self.vocab) }\n",
    "\n",
    "    def encode(self, s):\n",
    "        return [self.char_to_int[ch] for ch in s]\n",
    "\n",
    "    def decode(self, ints):\n",
    "        return ''.join(self.int_to_char[i] for i in ints)\n",
    "\n",
    "class TikTokenizer:\n",
    "    def __init__(self):\n",
    "        import tiktoken\n",
    "        self.enc = tiktoken.get_encoding('gpt2')\n",
    "        self.vocab = [self.enc.decode([i]) for i in range(self.enc.n_vocab)]\n",
    "        self.vocab_size = self.enc.n_vocab\n",
    "\n",
    "    def encode(self, s):\n",
    "        return self.enc.encode(s)\n",
    "\n",
    "    def decode(self, ints):\n",
    "        return self.enc.decode(ints)"
   ]
  },
  {
   "cell_type": "markdown",
   "metadata": {},
   "source": [
    "Splitting Methods"
   ]
  },
  {
   "cell_type": "code",
   "execution_count": 3,
   "metadata": {},
   "outputs": [],
   "source": [
    "class BasicSplit:\n",
    "    def __init__(self, val_fraction=0.1):\n",
    "        self.val_fraction = val_fraction\n",
    "\n",
    "    def split(self, data):\n",
    "        n = int(self.val_fraction * len(data))\n",
    "        train_data = data[:(1-n)]\n",
    "        val_data   = data[(1-n):]\n",
    "        return train_data, val_data\n",
    "\n",
    "class ChunkSplit:\n",
    "    def __init__(self, val_fraction=0.1, num_chunks=12, encode=lambda x: x):\n",
    "\n",
    "        self.val_fraction = val_fraction\n",
    "        self.num_chunks   = num_chunks\n",
    "        self.encode       = encode\n",
    "\n",
    "    def split(self, data):\n",
    "        newline_token = self.encode(\"\\n\")\n",
    "\n",
    "        val_fraction = self.val_fraction\n",
    "        num_chunks   = self.num_chunks\n",
    "\n",
    "        total_len = data.size(0)\n",
    "        val_len   = int(val_fraction * total_len)\n",
    "        chunk_len = val_len // num_chunks\n",
    "        remainder = val_len % num_chunks\n",
    "\n",
    "        # split the entire dataset into chunks\n",
    "        chunks = []\n",
    "        idx = 0\n",
    "        while idx + chunk_len <= total_len:\n",
    "            chunks.append(data[idx : idx + chunk_len])\n",
    "            idx += chunk_len\n",
    "\n",
    "        # the leftover chunk (if any) after slicing out as many `chunk_len` blocks as possible. We always put this leftover into training by default\n",
    "        leftover = data[idx:]\n",
    "\n",
    "        val_indices = sorted(random.sample(range(len(chunks)), num_chunks))\n",
    "\n",
    "        # build the validation data (insert newline_token only between non-consecutive chunks)\n",
    "        val_data = []\n",
    "        prev_idx = -2  # something not adjacent to first pick \n",
    "        for i in val_indices:\n",
    "            # if the current chunk is NOT directly after the previous one and val_data already has content,\n",
    "            # then insert a newline token\n",
    "            if i != prev_idx + 1 and len(val_data) > 0:\n",
    "                val_data.append(torch.tensor(newline_token, dtype=torch.int64))\n",
    "            val_data.append(chunks[i])\n",
    "            prev_idx = i\n",
    "\n",
    "        # concatenate chosen val chunks\n",
    "        val_data = torch.cat(val_data) if val_data else torch.empty(0, dtype=torch.int64)\n",
    "\n",
    "        # if we have a remainder that is significant, tack data from train onto the end. This is ugly and bad and should be changed\n",
    "        # this ensures total validation tokens == val_len but can also result in a small amount of overlap (up to chunk_length -1 tokens) between val and train\n",
    "        if remainder > 100:\n",
    "            val_data = torch.cat((val_data, data[-remainder:]))\n",
    "\n",
    "        # everything else is training: the unchosen chunks plus leftover\n",
    "        train_indices = sorted(set(range(len(chunks))) - set(val_indices))\n",
    "        train_data_list = []\n",
    "        prev_idx = -2  # so first chunk won't auto-insert a newline\n",
    "        for i in train_indices:\n",
    "            # if this chunk is not consecutive to the previous one, insert a newline\n",
    "            if i != prev_idx + 1 and len(train_data_list) > 0:\n",
    "                train_data_list.append(torch.tensor(newline_token, dtype=torch.int64))\n",
    "            train_data_list.append(chunks[i])\n",
    "            prev_idx = i\n",
    "\n",
    "        train_data_list.append(torch.tensor(newline_token, dtype=torch.int64))\n",
    "        train_data_list.append(leftover)\n",
    "        train_data = torch.cat(train_data_list) if train_data_list else torch.empty(0, dtype=torch.int64)\n",
    "        return train_data, val_data\n"
   ]
  },
  {
   "cell_type": "markdown",
   "metadata": {},
   "source": [
    "Load Data"
   ]
  },
  {
   "cell_type": "code",
   "execution_count": 4,
   "metadata": {},
   "outputs": [],
   "source": [
    "input_file_path = \"datasets/tinyshakespeare.txt\"\n",
    "# input_file_path = \"datasets/big.txt\"\n",
    "with open(input_file_path, 'r', encoding='utf-8') as f:\n",
    "    train_text = f.read()"
   ]
  },
  {
   "cell_type": "markdown",
   "metadata": {},
   "source": [
    "Hyper Params"
   ]
  },
  {
   "cell_type": "code",
   "execution_count": 5,
   "metadata": {},
   "outputs": [],
   "source": [
    "tokenizer = CharTokenizer(train_text)\n",
    "encode = tokenizer.encode\n",
    "decode = tokenizer.decode\n",
    "vocab = tokenizer.vocab\n",
    "vocab_size = tokenizer.vocab_size\n",
    "val_fraction = 0.1\n",
    "splitter = BasicSplit(val_fraction)"
   ]
  },
  {
   "cell_type": "code",
   "execution_count": 6,
   "metadata": {},
   "outputs": [],
   "source": [
    "batch_size = 16 # how many independent sequences will we process in parallel?\n",
    "block_size = 32 # what is the maximum context length for predictions?\n",
    "max_iters = 5000\n",
    "eval_interval = 500\n",
    "learning_rate = 1e-3\n",
    "device = 'cuda' if torch.cuda.is_available() else 'cpu'\n",
    "eval_iters = 200\n",
    "n_embd = 32\n",
    "dropout = 0.0"
   ]
  },
  {
   "cell_type": "markdown",
   "metadata": {},
   "source": [
    "Make Training Data"
   ]
  },
  {
   "cell_type": "code",
   "execution_count": 7,
   "metadata": {},
   "outputs": [],
   "source": [
    "data = torch.tensor(encode(train_text), dtype=torch.long)\n",
    "train_data, val_data = splitter.split(data)"
   ]
  },
  {
   "cell_type": "markdown",
   "metadata": {},
   "source": [
    "Data Loading"
   ]
  },
  {
   "cell_type": "code",
   "execution_count": 8,
   "metadata": {},
   "outputs": [],
   "source": [
    "def get_batch(split):\n",
    "    data = train_data if split == 'train' else val_data\n",
    "    ix = torch.randint(len(data) - block_size, (batch_size,))\n",
    "    x = torch.stack([data[i:i+block_size] for i in ix])\n",
    "    y = torch.stack([data[i+1:i+block_size+1] for i in ix])\n",
    "    x, y = x.to(device), y.to(device)\n",
    "    return x, y"
   ]
  },
  {
   "cell_type": "markdown",
   "metadata": {},
   "source": []
  },
  {
   "cell_type": "code",
   "execution_count": 9,
   "metadata": {},
   "outputs": [],
   "source": [
    "@torch.no_grad()\n",
    "def estimate_loss():\n",
    "    out = {}\n",
    "    model.eval()\n",
    "    for split in ['train', 'val']:\n",
    "        losses = torch.zeros(eval_iters)\n",
    "        for k in range(eval_iters):\n",
    "            X, Y = get_batch(split)\n",
    "            logits, loss = model(X, Y)\n",
    "            losses[k] = loss.item()\n",
    "        out[split] = losses.mean()\n",
    "    model.train()\n",
    "    return out"
   ]
  },
  {
   "cell_type": "markdown",
   "metadata": {},
   "source": []
  },
  {
   "cell_type": "code",
   "execution_count": 10,
   "metadata": {},
   "outputs": [],
   "source": [
    "class Head(nn.Module):\n",
    "    \"\"\" one head of self-attention \"\"\"\n",
    "\n",
    "    def __init__(self, head_size):\n",
    "        super().__init__()\n",
    "        self.key = nn.Linear(n_embd, head_size, bias=False)\n",
    "        self.query = nn.Linear(n_embd, head_size, bias=False)\n",
    "        self.value = nn.Linear(n_embd, head_size, bias=False)\n",
    "\n",
    "        # lower-triangular mask for future tokens (causal attention)\n",
    "        self.register_buffer('tril', torch.tril(torch.ones(block_size, block_size)))\n",
    "\n",
    "    def forward(self, x):\n",
    "        B, T, C = x.shape\n",
    "        # project x to key, query, value\n",
    "        k = self.key(x)    # (B, T, head_size)\n",
    "        q = self.query(x)  # (B, T, head_size)\n",
    "\n",
    "        # compute attention scores (\"affinities\")\n",
    "        wei = q @ k.transpose(-2, -1) * C**-0.5  # (B, T, T)\n",
    "        # mask out future positions for causal language modeling\n",
    "        wei = wei.masked_fill(self.tril[:T, :T] == 0, float('-inf'))  # (B, T, T)\n",
    "        # softmax to get attention weights\n",
    "        wei = F.softmax(wei, dim=-1)  # (B, T, T)\n",
    "\n",
    "        # weighted aggregation of the values\n",
    "        v = self.value(x)  # (B, T, head_size)\n",
    "        out = wei @ v       # (B, T, T) @ (B, T, head_size) -> (B, T, head_size)\n",
    "        return out"
   ]
  },
  {
   "cell_type": "code",
   "execution_count": 11,
   "metadata": {},
   "outputs": [],
   "source": [
    "class MultiHeadAttention(nn.Module):\n",
    "    \"\"\" multiple heads of self-attention in parallel \"\"\"\n",
    "\n",
    "    def __init__(self, num_heads, head_size):\n",
    "        super().__init__()\n",
    "        self.heads = nn.ModuleList([Head(head_size) for _ in range(num_heads)])\n",
    "        self.proj = nn.Linear(n_embd, n_embd)\n",
    "        self.dropout = nn.Dropout(dropout)\n",
    "\n",
    "    def forward(self, x):\n",
    "        out = torch.cat([h(x) for h in self.heads], dim=-1)\n",
    "        out = self.dropout(self.proj(out))\n",
    "        return out"
   ]
  },
  {
   "cell_type": "markdown",
   "metadata": {},
   "source": [
    "Bigram Model"
   ]
  },
  {
   "cell_type": "code",
   "execution_count": 12,
   "metadata": {},
   "outputs": [],
   "source": [
    "class BigramLanguageModel(nn.Module):\n",
    "    def __init__(self):\n",
    "        super().__init__()\n",
    "        self.token_embedding_table = nn.Embedding(vocab_size, n_embd)\n",
    "        self.postion_embedding_table = nn.Embedding(block_size, n_embd)\n",
    "        self.sa_heads = MultiHeadAttention(4, n_embd//4)\n",
    "        self.lm_head = nn.Linear(n_embd, vocab_size)\n",
    "\n",
    "    def forward(self, idx, targets=None):\n",
    "        B, T = idx.shape\n",
    "\n",
    "        tok_emb = self.token_embedding_table(idx) # (B, T, C) or (B, T, n_embd)\n",
    "        pos_emb = self.postion_embedding_table(torch.arange(T, device=device)) # (T, C)\n",
    "        x = tok_emb + pos_emb # (B, T, C)\n",
    "        x = self.sa_heads(x) # apply a head of self attention\n",
    "        logits = self.lm_head(x) # (B, T, vocab_size)\n",
    "\n",
    "        if targets is None:\n",
    "            loss = None\n",
    "        else:\n",
    "            B, T, C = logits.shape\n",
    "            logits = logits.view(B*T, C)\n",
    "            targets = targets.view(B*T)\n",
    "            loss = F.cross_entropy(logits, targets)\n",
    "\n",
    "        return logits, loss\n",
    "    \n",
    "    def generate(self, idx, max_new_tokens):\n",
    "        # idx is (B, T) array of indices in the current context\n",
    "        for _ in range(max_new_tokens):\n",
    "            # crop idx to the last block_size tokens\n",
    "            idx_cond = idx[:, -block_size:]\n",
    "            # get the predictions\n",
    "            logits, loss = self(idx_cond)\n",
    "            # focus only on the last time step\n",
    "            logits = logits[:, -1, :] # becomes (B, C)\n",
    "            # apply softmax to get probabilities\n",
    "            probs = F.softmax(logits, dim=-1) # (B, C)\n",
    "            # sample from the distribution\n",
    "            idx_next = torch.multinomial(probs, num_samples=1) # (B, 1)\n",
    "            # append sampled index to the running sequence\n",
    "            idx = torch.cat((idx, idx_next), dim=1) # (B, T+1)\n",
    "        return idx"
   ]
  },
  {
   "cell_type": "code",
   "execution_count": 13,
   "metadata": {},
   "outputs": [],
   "source": [
    "model = BigramLanguageModel()\n",
    "model = model.to(device)"
   ]
  },
  {
   "cell_type": "markdown",
   "metadata": {},
   "source": [
    "Training"
   ]
  },
  {
   "cell_type": "code",
   "execution_count": 14,
   "metadata": {},
   "outputs": [],
   "source": [
    "optimizer = torch.optim.AdamW(model.parameters(), lr=1e-3)"
   ]
  },
  {
   "cell_type": "code",
   "execution_count": null,
   "metadata": {},
   "outputs": [],
   "source": [
    "for iter in range(max_iters):\n",
    "\n",
    "    if iter % eval_interval == 0 or iter == max_iters - 1:\n",
    "        losses = estimate_loss()\n",
    "        print(f\"step {iter}: train loss {losses['train']:.4f}, val loss {losses['val']:.4f}\")\n",
    "\n",
    "    # sample a batch of data\n",
    "    xb, yb = get_batch('train')\n",
    "\n",
    "    # evaluate the loss\n",
    "    logits, loss = model(xb, yb)\n",
    "    optimizer.zero_grad(set_to_none=True)\n",
    "    loss.backward()\n",
    "    optimizer.step()"
   ]
  },
  {
   "cell_type": "markdown",
   "metadata": {},
   "source": [
    "Generate From the Model"
   ]
  },
  {
   "cell_type": "code",
   "execution_count": null,
   "metadata": {},
   "outputs": [],
   "source": [
    "context = torch.zeros((1, 1), dtype=torch.long, device=device)\n",
    "print(decode(model.generate(context, max_new_tokens=2000)[0].tolist()))"
   ]
  }
 ],
 "metadata": {
  "kernelspec": {
   "display_name": "nanogpt",
   "language": "python",
   "name": "python3"
  },
  "language_info": {
   "codemirror_mode": {
    "name": "ipython",
    "version": 3
   },
   "file_extension": ".py",
   "mimetype": "text/x-python",
   "name": "python",
   "nbconvert_exporter": "python",
   "pygments_lexer": "ipython3",
   "version": "3.12.8"
  }
 },
 "nbformat": 4,
 "nbformat_minor": 2
}
